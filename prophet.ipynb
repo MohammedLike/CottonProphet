{
 "cells": [
  {
   "cell_type": "code",
   "execution_count": 9,
   "metadata": {
    "ExecuteTime": {
     "end_time": "2024-01-31T13:56:07.649640600Z",
     "start_time": "2024-01-31T13:56:07.632633600Z"
    }
   },
   "outputs": [],
   "source": [
    "import numpy as np\n",
    "import pandas as pd\n",
    "import matplotlib.pyplot as plt\n",
    "%matplotlib inline\n",
    "from sklearn.model_selection import train_test_split\n",
    "import warnings\n",
    "import seaborn as sns\n",
    "warnings.filterwarnings(\"ignore\")\n"
   ]
  },
  {
   "cell_type": "code",
   "execution_count": 10,
   "metadata": {
    "ExecuteTime": {
     "end_time": "2024-01-31T13:56:10.114455700Z",
     "start_time": "2024-01-31T13:56:09.984821900Z"
    }
   },
   "outputs": [
    {
     "data": {
      "text/plain": "   Day  Month  Year           State   District Market   Price\n0    6      2  2015  Andhra Pradesh  Anantapur  Gooti  4150.0\n1    7      2  2015  Andhra Pradesh  Anantapur  Gooti  4150.0\n2    8      2  2015  Andhra Pradesh  Anantapur  Gooti  4150.0\n3    9      2  2015  Andhra Pradesh  Anantapur  Gooti  4150.0\n4   10      2  2015  Andhra Pradesh  Anantapur  Gooti  4150.0",
      "text/html": "<div>\n<style scoped>\n    .dataframe tbody tr th:only-of-type {\n        vertical-align: middle;\n    }\n\n    .dataframe tbody tr th {\n        vertical-align: top;\n    }\n\n    .dataframe thead th {\n        text-align: right;\n    }\n</style>\n<table border=\"1\" class=\"dataframe\">\n  <thead>\n    <tr style=\"text-align: right;\">\n      <th></th>\n      <th>Day</th>\n      <th>Month</th>\n      <th>Year</th>\n      <th>State</th>\n      <th>District</th>\n      <th>Market</th>\n      <th>Price</th>\n    </tr>\n  </thead>\n  <tbody>\n    <tr>\n      <th>0</th>\n      <td>6</td>\n      <td>2</td>\n      <td>2015</td>\n      <td>Andhra Pradesh</td>\n      <td>Anantapur</td>\n      <td>Gooti</td>\n      <td>4150.0</td>\n    </tr>\n    <tr>\n      <th>1</th>\n      <td>7</td>\n      <td>2</td>\n      <td>2015</td>\n      <td>Andhra Pradesh</td>\n      <td>Anantapur</td>\n      <td>Gooti</td>\n      <td>4150.0</td>\n    </tr>\n    <tr>\n      <th>2</th>\n      <td>8</td>\n      <td>2</td>\n      <td>2015</td>\n      <td>Andhra Pradesh</td>\n      <td>Anantapur</td>\n      <td>Gooti</td>\n      <td>4150.0</td>\n    </tr>\n    <tr>\n      <th>3</th>\n      <td>9</td>\n      <td>2</td>\n      <td>2015</td>\n      <td>Andhra Pradesh</td>\n      <td>Anantapur</td>\n      <td>Gooti</td>\n      <td>4150.0</td>\n    </tr>\n    <tr>\n      <th>4</th>\n      <td>10</td>\n      <td>2</td>\n      <td>2015</td>\n      <td>Andhra Pradesh</td>\n      <td>Anantapur</td>\n      <td>Gooti</td>\n      <td>4150.0</td>\n    </tr>\n  </tbody>\n</table>\n</div>"
     },
     "execution_count": 10,
     "metadata": {},
     "output_type": "execute_result"
    }
   ],
   "source": [
    "df = pd.read_csv('CottonData.csv')\n",
    "df.head()"
   ]
  },
  {
   "cell_type": "code",
   "execution_count": 11,
   "metadata": {
    "ExecuteTime": {
     "end_time": "2024-01-31T13:56:14.456809Z",
     "start_time": "2024-01-31T13:56:14.362749500Z"
    }
   },
   "outputs": [
    {
     "name": "stdout",
     "output_type": "stream",
     "text": [
      "<class 'pandas.core.frame.DataFrame'>\n",
      "RangeIndex: 239458 entries, 0 to 239457\n",
      "Data columns (total 7 columns):\n",
      " #   Column    Non-Null Count   Dtype  \n",
      "---  ------    --------------   -----  \n",
      " 0   Day       239458 non-null  int64  \n",
      " 1   Month     239458 non-null  int64  \n",
      " 2   Year      239458 non-null  int64  \n",
      " 3   State     239458 non-null  object \n",
      " 4   District  239458 non-null  object \n",
      " 5   Market    239458 non-null  object \n",
      " 6   Price     239458 non-null  float64\n",
      "dtypes: float64(1), int64(3), object(3)\n",
      "memory usage: 12.8+ MB\n"
     ]
    }
   ],
   "source": [
    "df.info()"
   ]
  },
  {
   "cell_type": "code",
   "execution_count": 12,
   "metadata": {
    "ExecuteTime": {
     "end_time": "2024-01-31T13:56:18.221619700Z",
     "start_time": "2024-01-31T13:56:18.214487700Z"
    }
   },
   "outputs": [
    {
     "data": {
      "text/plain": "(239458, 7)"
     },
     "execution_count": 12,
     "metadata": {},
     "output_type": "execute_result"
    }
   ],
   "source": [
    "df.shape"
   ]
  },
  {
   "cell_type": "code",
   "execution_count": 13,
   "metadata": {
    "ExecuteTime": {
     "end_time": "2024-01-31T13:56:21.204852800Z",
     "start_time": "2024-01-31T13:56:21.198010500Z"
    }
   },
   "outputs": [
    {
     "name": "stdout",
     "output_type": "stream",
     "text": [
      "0.0\n",
      "4120383.0\n"
     ]
    }
   ],
   "source": [
    "print(min(df['Price']))\n",
    "print(max(df['Price']))"
   ]
  },
  {
   "cell_type": "code",
   "execution_count": 15,
   "metadata": {
    "ExecuteTime": {
     "end_time": "2024-01-31T13:56:26.833711700Z",
     "start_time": "2024-01-31T13:56:26.792314300Z"
    }
   },
   "outputs": [],
   "source": [
    "#Data Cleaning\n",
    "df = df[df['Price'] > 0]\n",
    "df = df[df['Price'] < 13000]"
   ]
  },
  {
   "cell_type": "code",
   "execution_count": 14,
   "metadata": {
    "ExecuteTime": {
     "end_time": "2024-01-31T13:56:24.582252400Z",
     "start_time": "2024-01-31T13:56:24.528866800Z"
    }
   },
   "outputs": [
    {
     "name": "stdout",
     "output_type": "stream",
     "text": [
      "0.0\n",
      "4120383.0\n"
     ]
    }
   ],
   "source": [
    "print(min(df['Price']))\n",
    "print(max(df['Price']))"
   ]
  },
  {
   "cell_type": "code",
   "execution_count": 16,
   "metadata": {
    "ExecuteTime": {
     "end_time": "2024-01-31T13:56:29.489599800Z",
     "start_time": "2024-01-31T13:56:28.909366600Z"
    }
   },
   "outputs": [
    {
     "data": {
      "text/plain": "            State   District Market   Price        date\n0  Andhra Pradesh  Anantapur  Gooti  4150.0  2015-02-06\n1  Andhra Pradesh  Anantapur  Gooti  4150.0  2015-02-07\n2  Andhra Pradesh  Anantapur  Gooti  4150.0  2015-02-08\n3  Andhra Pradesh  Anantapur  Gooti  4150.0  2015-02-09\n4  Andhra Pradesh  Anantapur  Gooti  4150.0  2015-02-10",
      "text/html": "<div>\n<style scoped>\n    .dataframe tbody tr th:only-of-type {\n        vertical-align: middle;\n    }\n\n    .dataframe tbody tr th {\n        vertical-align: top;\n    }\n\n    .dataframe thead th {\n        text-align: right;\n    }\n</style>\n<table border=\"1\" class=\"dataframe\">\n  <thead>\n    <tr style=\"text-align: right;\">\n      <th></th>\n      <th>State</th>\n      <th>District</th>\n      <th>Market</th>\n      <th>Price</th>\n      <th>date</th>\n    </tr>\n  </thead>\n  <tbody>\n    <tr>\n      <th>0</th>\n      <td>Andhra Pradesh</td>\n      <td>Anantapur</td>\n      <td>Gooti</td>\n      <td>4150.0</td>\n      <td>2015-02-06</td>\n    </tr>\n    <tr>\n      <th>1</th>\n      <td>Andhra Pradesh</td>\n      <td>Anantapur</td>\n      <td>Gooti</td>\n      <td>4150.0</td>\n      <td>2015-02-07</td>\n    </tr>\n    <tr>\n      <th>2</th>\n      <td>Andhra Pradesh</td>\n      <td>Anantapur</td>\n      <td>Gooti</td>\n      <td>4150.0</td>\n      <td>2015-02-08</td>\n    </tr>\n    <tr>\n      <th>3</th>\n      <td>Andhra Pradesh</td>\n      <td>Anantapur</td>\n      <td>Gooti</td>\n      <td>4150.0</td>\n      <td>2015-02-09</td>\n    </tr>\n    <tr>\n      <th>4</th>\n      <td>Andhra Pradesh</td>\n      <td>Anantapur</td>\n      <td>Gooti</td>\n      <td>4150.0</td>\n      <td>2015-02-10</td>\n    </tr>\n  </tbody>\n</table>\n</div>"
     },
     "execution_count": 16,
     "metadata": {},
     "output_type": "execute_result"
    }
   ],
   "source": [
    "#DATE MERGING\n",
    "df['Day']=df['Day'].apply(lambda x: '{0:0>2}'.format(x))\n",
    "df['Month']=df['Month'].apply(lambda x: '{0:0>2}'.format(x))\n",
    "df['Year'] = df['Year'].apply(str)\n",
    "df['Day']=df['Day'].apply(str)\n",
    "df['Month']=df['Month'].apply(str)\n",
    "df['date'] = df['Year'].str.cat(df['Month'], sep =\"-\")\n",
    "df['date'] = df['date'].str.cat(df['Day'], sep =\"-\")\n",
    "df = df.drop(['Day', 'Month', \"Year\"], axis=1)\n",
    "df.head()"
   ]
  },
  {
   "cell_type": "code",
   "execution_count": 17,
   "metadata": {
    "ExecuteTime": {
     "end_time": "2024-01-31T13:56:32.353840900Z",
     "start_time": "2024-01-31T13:56:32.321685700Z"
    }
   },
   "outputs": [
    {
     "data": {
      "text/plain": "array(['Andhra Pradesh', 'Gujarat', 'Haryana', 'Karnataka',\n       'Madhya Pradesh', 'Maharashtra', 'Meghalaya', 'Odisha',\n       'Pondicherry', 'Punjab', 'Rajasthan', 'Tamil Nadu', 'Telangana',\n       'Uttar Pradesh'], dtype=object)"
     },
     "execution_count": 17,
     "metadata": {},
     "output_type": "execute_result"
    }
   ],
   "source": [
    "df['State'].unique()"
   ]
  },
  {
   "cell_type": "code",
   "execution_count": null,
   "metadata": {},
   "outputs": [],
   "source": []
  },
  {
   "cell_type": "code",
   "execution_count": null,
   "metadata": {},
   "outputs": [],
   "source": [
    "df_prop= pd.DataFrame()\n",
    "df_prop['ds'] = pd.to_datetime(df[\"date\"])\n",
    "df_prop['y'] = df[\"Price\"]\n",
    "df_prop['State'] = df[\"State\"]\n",
    "df_prop['District'] = df[\"District\"]\n",
    "df_prop['Market'] = df[\"Market\"]\n",
    "df_prop.head()"
   ]
  },
  {
   "cell_type": "code",
   "execution_count": null,
   "metadata": {},
   "outputs": [],
   "source": [
    "# Encoding Categorical Columns\n",
    "df_prop['State'] = df_prop['State'].astype('category')\n",
    "df_prop['District'] = df_prop['District'].astype('category')\n",
    "df_prop['Market'] = df_prop['Market'].astype('category')\n",
    "df_prop['State_Code'] = df_prop['State'].cat.codes\n",
    "df_prop['District_Code'] = df_prop['District'].cat.codes\n",
    "df_prop['Market_Code'] = df_prop['Market'].cat.codes\n",
    "df_prop.head()"
   ]
  },
  {
   "cell_type": "code",
   "execution_count": 11,
   "metadata": {},
   "outputs": [
    {
     "data": {
      "text/html": [
       "<div>\n",
       "<style scoped>\n",
       "    .dataframe tbody tr th:only-of-type {\n",
       "        vertical-align: middle;\n",
       "    }\n",
       "\n",
       "    .dataframe tbody tr th {\n",
       "        vertical-align: top;\n",
       "    }\n",
       "\n",
       "    .dataframe thead th {\n",
       "        text-align: right;\n",
       "    }\n",
       "</style>\n",
       "<table border=\"1\" class=\"dataframe\">\n",
       "  <thead>\n",
       "    <tr style=\"text-align: right;\">\n",
       "      <th></th>\n",
       "      <th>ds</th>\n",
       "      <th>y</th>\n",
       "      <th>State_Code</th>\n",
       "      <th>District_Code</th>\n",
       "      <th>Market_Code</th>\n",
       "    </tr>\n",
       "  </thead>\n",
       "  <tbody>\n",
       "    <tr>\n",
       "      <th>0</th>\n",
       "      <td>2015-02-06</td>\n",
       "      <td>4150.0</td>\n",
       "      <td>0</td>\n",
       "      <td>11</td>\n",
       "      <td>202</td>\n",
       "    </tr>\n",
       "    <tr>\n",
       "      <th>1</th>\n",
       "      <td>2015-02-07</td>\n",
       "      <td>4150.0</td>\n",
       "      <td>0</td>\n",
       "      <td>11</td>\n",
       "      <td>202</td>\n",
       "    </tr>\n",
       "    <tr>\n",
       "      <th>2</th>\n",
       "      <td>2015-02-08</td>\n",
       "      <td>4150.0</td>\n",
       "      <td>0</td>\n",
       "      <td>11</td>\n",
       "      <td>202</td>\n",
       "    </tr>\n",
       "    <tr>\n",
       "      <th>3</th>\n",
       "      <td>2015-02-09</td>\n",
       "      <td>4150.0</td>\n",
       "      <td>0</td>\n",
       "      <td>11</td>\n",
       "      <td>202</td>\n",
       "    </tr>\n",
       "    <tr>\n",
       "      <th>4</th>\n",
       "      <td>2015-02-10</td>\n",
       "      <td>4150.0</td>\n",
       "      <td>0</td>\n",
       "      <td>11</td>\n",
       "      <td>202</td>\n",
       "    </tr>\n",
       "  </tbody>\n",
       "</table>\n",
       "</div>"
      ],
      "text/plain": [
       "          ds       y  State_Code  District_Code  Market_Code\n",
       "0 2015-02-06  4150.0           0             11          202\n",
       "1 2015-02-07  4150.0           0             11          202\n",
       "2 2015-02-08  4150.0           0             11          202\n",
       "3 2015-02-09  4150.0           0             11          202\n",
       "4 2015-02-10  4150.0           0             11          202"
      ]
     },
     "execution_count": 11,
     "metadata": {},
     "output_type": "execute_result"
    }
   ],
   "source": [
    "#making dictionaries for categorical attributes\n",
    "state_dict = pd.Series(df_prop.State_Code.values, index=df_prop.State).to_dict()\n",
    "district_dict = pd.Series(df_prop.District_Code.values, index=df_prop.District).to_dict()\n",
    "market_dict = pd.Series(df_prop.Market_Code.values, index=df_prop.Market).to_dict()\n",
    "df_prop = df_prop.drop(['State', 'District', 'Market'], axis=1)\n",
    "df_prop.head()"
   ]
  },
  {
   "cell_type": "code",
   "execution_count": 12,
   "metadata": {},
   "outputs": [
    {
     "name": "stdout",
     "output_type": "stream",
     "text": [
      "{'Andhra Pradesh': 0, 'Gujarat': 1, 'Haryana': 2, 'Karnataka': 3, 'Madhya Pradesh': 4, 'Maharashtra': 5, 'Meghalaya': 6, 'Odisha': 7, 'Pondicherry': 8, 'Punjab': 9, 'Rajasthan': 10, 'Tamil Nadu': 11, 'Telangana': 12, 'Uttar Pradesh': 13}\n"
     ]
    }
   ],
   "source": [
    "print(state_dict)"
   ]
  },
  {
   "cell_type": "code",
   "execution_count": null,
   "metadata": {},
   "outputs": [],
   "source": [
    "# train, test = train_test_split(df_prop, test_size=0.2, random_state=42)\n",
    "\n",
    "train = df_prop[:-48000] # remove last 48000 from training (80 - 20)\n",
    "test = df_prop[-48000:] # last 48000 for testing"
   ]
  },
  {
   "cell_type": "code",
   "execution_count": null,
   "metadata": {},
   "outputs": [],
   "source": [
    "prophet_model = Prophet(daily_seasonality = True)\n",
    "prophet_model.add_regressor('State_Code')\n",
    "prophet_model.add_regressor('District_Code')\n",
    "prophet_model.add_regressor('Market_Code')\n",
    "prophet_model.fit(train)"
   ]
  },
  {
   "cell_type": "code",
   "execution_count": null,
   "metadata": {},
   "outputs": [],
   "source": [
    "#Model Saving \n",
    "import pickle\n",
    "# with open('model_train_test.pckl', 'wb') as fout:\n",
    "#     pickle.dump(prophet_model, fout)\n",
    "\n",
    "# # Model retrieval\n",
    "with open('model_train_test.pckl', 'rb') as fin:\n",
    "    prophet_model = pickle.load(fin)"
   ]
  },
  {
   "cell_type": "code",
   "execution_count": null,
   "metadata": {},
   "outputs": [],
   "source": [
    "test_wihtout_label = test.drop(['y'], axis=1)"
   ]
  },
  {
   "cell_type": "code",
   "execution_count": null,
   "metadata": {},
   "outputs": [],
   "source": [
    "test_pred = prophet_model.predict(test_wihtout_label)"
   ]
  },
  {
   "cell_type": "code",
   "execution_count": null,
   "metadata": {},
   "outputs": [],
   "source": [
    "# sklearn metrics\n",
    "from sklearn.metrics import mean_absolute_error\n",
    "from sklearn.metrics import max_error\n",
    "from sklearn.metrics import mean_squared_error\n",
    "from sklearn.metrics import r2_score\n",
    "\n",
    "y_true = test['y']\n",
    "y_pred = test_pred['yhat']\n",
    "\n",
    "print( \"Mean Absolute Error is\", mean_absolute_error(y_true, y_pred)) \n",
    "# print( \"Max Error is\", max_error(y_true, y_pred)) \n",
    "# print( \"Mean Squared Error is\", mean_squared_error(y_true, y_pred)) \n",
    "print( \"R2 score is\",r2_score(y_true, y_pred)) #BEST= +1 or -1"
   ]
  },
  {
   "cell_type": "code",
   "execution_count": null,
   "metadata": {},
   "outputs": [],
   "source": [
    "def mean_absolute_percentage_error(y_true, y_pred): \n",
    "    y_true, y_pred = np.array(y_true), np.array(y_pred)\n",
    "    return np.mean(np.abs((y_true - y_pred) / y_true)) * 100\n",
    "\n",
    "mean_absolute_percentage_error(test['y'],test_pred['yhat'])"
   ]
  },
  {
   "cell_type": "code",
   "execution_count": null,
   "metadata": {},
   "outputs": [],
   "source": [
    "fig1 = prophet_model.plot(test_pred)"
   ]
  },
  {
   "cell_type": "code",
   "execution_count": null,
   "metadata": {},
   "outputs": [],
   "source": []
  },
  {
   "cell_type": "code",
   "execution_count": null,
   "metadata": {},
   "outputs": [],
   "source": [
    "future = prophet_model.make_future_dataframe(periods=90)"
   ]
  },
  {
   "cell_type": "code",
   "execution_count": null,
   "metadata": {},
   "outputs": [],
   "source": [
    "test_data = [['2022-02-14', '0', '11', '202']] \n",
    "df_test = pd.DataFrame(test_data, columns = ['ds', 'State_Code', 'District_Code', 'Market_Code'])\n",
    "df_test.head()"
   ]
  },
  {
   "cell_type": "code",
   "execution_count": null,
   "metadata": {},
   "outputs": [],
   "source": [
    "future.head()"
   ]
  },
  {
   "cell_type": "code",
   "execution_count": null,
   "metadata": {},
   "outputs": [],
   "source": [
    "len(train)"
   ]
  },
  {
   "cell_type": "code",
   "execution_count": null,
   "metadata": {},
   "outputs": [],
   "source": [
    "forecast = prophet_model.predict(future)"
   ]
  },
  {
   "cell_type": "code",
   "execution_count": null,
   "metadata": {},
   "outputs": [],
   "source": [
    "fig1 = prophet_model.plot(forecast)"
   ]
  },
  {
   "cell_type": "code",
   "execution_count": null,
   "metadata": {},
   "outputs": [],
   "source": [
    "df_test.info()"
   ]
  },
  {
   "cell_type": "code",
   "execution_count": null,
   "metadata": {},
   "outputs": [],
   "source": [
    "test_data = [['2015-02-06', '0', '11', '202']] \n",
    "df_test = pd.DataFrame(test_data, columns = ['ds', 'State_Code', 'District_Code', 'Market_Code'])\n",
    "df_test.head()"
   ]
  },
  {
   "cell_type": "code",
   "execution_count": null,
   "metadata": {},
   "outputs": [],
   "source": [
    "forecast_test = prophet_model.predict(df_test)"
   ]
  },
  {
   "cell_type": "code",
   "execution_count": null,
   "metadata": {},
   "outputs": [],
   "source": [
    "forecast_test"
   ]
  },
  {
   "cell_type": "code",
   "execution_count": null,
   "metadata": {},
   "outputs": [],
   "source": [
    "fig1 = prophet_model.plot(forecast_test)"
   ]
  },
  {
   "cell_type": "code",
   "execution_count": null,
   "metadata": {},
   "outputs": [],
   "source": []
  },
  {
   "cell_type": "code",
   "execution_count": null,
   "metadata": {},
   "outputs": [],
   "source": [
    "# Single Day Price Prediction\n",
    "\n",
    "import datetime\n",
    "input_state = \"Andhra Pradesh\"\n",
    "input_district = \"Anantapur\"\n",
    "input_market = \"Gooti\"\n",
    "input_date = \"15-03-15\"\n",
    "\n",
    "State_Code = state_dict[input_state]\n",
    "District_Code = district_dict[input_district]\n",
    "Market_Code = market_dict[input_market]\n",
    "\n",
    "ds = datetime.datetime.strptime(input_date, \"%d-%m-%y\").strftime(\"%Y-%m-%d\")\n",
    "ds = pd.to_datetime(ds)\n",
    "\n",
    "input_data = [[ds, State_Code, District_Code, Market_Code]]\n",
    "df_pred = pd.DataFrame(input_data, columns = ['ds', 'State_Code', 'District_Code', 'Market_Code'])\n",
    "\n",
    "#converting df columns to category dtype\n",
    "df_pred['State_Code'] = df_pred.State_Code.astype('category')\n",
    "df_pred['District_Code'] = df_pred.District_Code.astype('category')\n",
    "df_pred['Market_Code'] = df_pred.Market_Code.astype('category')\n",
    "\n",
    "pred_result = prophet_model.predict(df_pred)"
   ]
  },
  {
   "cell_type": "code",
   "execution_count": null,
   "metadata": {},
   "outputs": [],
   "source": [
    "# Week Price Prediction\n",
    "def get_week_prediction(input_state, input_district, input_market):\n",
    "    import datetime\n",
    "    from datetime import date\n",
    "    from datetime import timedelta\n",
    "    today = date.today()\n",
    "    input_date = today + timedelta(days=1) #starting prediction week from tomorrow\n",
    "\n",
    "    State_Code = state_dict[input_state]\n",
    "    District_Code = district_dict[input_district]\n",
    "    Market_Code = market_dict[input_market]\n",
    "\n",
    "    input_data = []\n",
    "    for i in range(7):\n",
    "        input_data.append([input_date, State_Code, District_Code, Market_Code])\n",
    "        input_date = input_date + timedelta(days=1) #date incremented by one day\n",
    "\n",
    "    df_pred = pd.DataFrame(input_data, columns = ['ds', 'State_Code', 'District_Code', 'Market_Code'])\n",
    "    input_data=[]\n",
    "\n",
    "    #converting df columns to category dtype\n",
    "    df_pred['State_Code'] = df_pred.State_Code.astype('category')\n",
    "    df_pred['District_Code'] = df_pred.District_Code.astype('category')\n",
    "    df_pred['Market_Code'] = df_pred.Market_Code.astype('category')\n",
    "\n",
    "    return prophet_model.predict(df_pred)"
   ]
  },
  {
   "cell_type": "code",
   "execution_count": null,
   "outputs": [],
   "source": [],
   "metadata": {
    "collapsed": false
   }
  },
  {
   "cell_type": "code",
   "execution_count": null,
   "metadata": {},
   "outputs": [],
   "source": [
    "week_prediction_result = get_week_prediction(\"Andhra Pradesh\",\"Anantapur\", \"Gooti\")"
   ]
  },
  {
   "cell_type": "code",
   "execution_count": null,
   "metadata": {},
   "outputs": [],
   "source": [
    "week_prediction_result"
   ]
  },
  {
   "cell_type": "code",
   "execution_count": null,
   "metadata": {},
   "outputs": [],
   "source": [
    "#LINEAR REGRESSION"
   ]
  },
  {
   "cell_type": "code",
   "execution_count": null,
   "metadata": {},
   "outputs": [],
   "source": [
    "dummies_state = pd.get_dummies(df.State)\n",
    "dummies_day = pd.get_dummies(df.Day)\n",
    "dummies_month = pd.get_dummies(df.Month)\n",
    "dummies_year = pd.get_dummies(df.Year)\n",
    "dummies_district = pd.get_dummies(df.District)\n",
    "merged = pd.concat([df,dummies_day,dummies_month,dummies_year,dummies_state,dummies_district],axis='columns')\n",
    "final = merged.drop(['Day','Month','Year','State','District','Market'],axis='columns')\n",
    "X = final.drop('Price',axis='columns')\n",
    "y = final.Price"
   ]
  },
  {
   "cell_type": "code",
   "execution_count": null,
   "metadata": {},
   "outputs": [],
   "source": [
    "from sklearn.linear_model import LinearRegression\n",
    "model = LinearRegression()"
   ]
  },
  {
   "cell_type": "code",
   "execution_count": null,
   "metadata": {},
   "outputs": [],
   "source": [
    "X_train, X_test, y_train, y_test = train_test_split(X, y, test_size=0.2, random_state=42)"
   ]
  },
  {
   "cell_type": "code",
   "execution_count": null,
   "metadata": {},
   "outputs": [],
   "source": [
    "regressor = LinearRegression()  \n",
    "regressor.fit(X_train, y_train)"
   ]
  },
  {
   "cell_type": "code",
   "execution_count": null,
   "metadata": {},
   "outputs": [],
   "source": [
    "y_pred = regressor.predict(X_test)\n",
    "df_ = pd.DataFrame({'Actual': y_test, 'Predicted': y_pred})\n",
    "df1 = df_.head(25)"
   ]
  },
  {
   "cell_type": "code",
   "execution_count": null,
   "metadata": {},
   "outputs": [],
   "source": [
    "accuracy = regressor.score(X_test,y_test)\n",
    "print(accuracy)"
   ]
  },
  {
   "cell_type": "code",
   "execution_count": null,
   "metadata": {},
   "outputs": [],
   "source": []
  },
  {
   "cell_type": "code",
   "execution_count": null,
   "metadata": {},
   "outputs": [],
   "source": [
    "#COMBINING DATE & PROPHET"
   ]
  },
  {
   "cell_type": "code",
   "execution_count": null,
   "metadata": {},
   "outputs": [],
   "source": [
    "df['Day']=df['Day'].apply(lambda x: '{0:0>2}'.format(x))"
   ]
  },
  {
   "cell_type": "code",
   "execution_count": null,
   "metadata": {},
   "outputs": [],
   "source": [
    "df['Month']=df['Month'].apply(lambda x: '{0:0>2}'.format(x))"
   ]
  },
  {
   "cell_type": "code",
   "execution_count": null,
   "metadata": {},
   "outputs": [],
   "source": [
    "df.head()"
   ]
  },
  {
   "cell_type": "code",
   "execution_count": null,
   "metadata": {},
   "outputs": [],
   "source": [
    "df['Year'] = df['Year'].apply(str)\n",
    "df['Day']=df['Day'].apply(str)\n",
    "df['Month']=df['Month'].apply(str)"
   ]
  },
  {
   "cell_type": "code",
   "execution_count": null,
   "metadata": {},
   "outputs": [],
   "source": [
    "df['date'] = df['Year'].str.cat(df['Month'], sep =\"-\")"
   ]
  },
  {
   "cell_type": "code",
   "execution_count": null,
   "metadata": {},
   "outputs": [],
   "source": [
    "df['date'] = df['date'].str.cat(df['Day'], sep =\"-\")"
   ]
  },
  {
   "cell_type": "code",
   "execution_count": null,
   "metadata": {},
   "outputs": [],
   "source": [
    "df.head()"
   ]
  },
  {
   "cell_type": "code",
   "execution_count": null,
   "metadata": {},
   "outputs": [],
   "source": [
    "df2.head()"
   ]
  },
  {
   "cell_type": "code",
   "execution_count": null,
   "metadata": {},
   "outputs": [],
   "source": [
    "df2 = df2[['date', 'Price']]\n",
    "df2.head()\n",
    "# len(df2)"
   ]
  },
  {
   "cell_type": "code",
   "execution_count": null,
   "metadata": {},
   "outputs": [],
   "source": [
    "df2 = df2.rename(columns={\"date\": \"ds\", \"Price\": \"y\"})"
   ]
  },
  {
   "cell_type": "code",
   "execution_count": null,
   "metadata": {},
   "outputs": [],
   "source": [
    "df2.head()"
   ]
  },
  {
   "cell_type": "code",
   "execution_count": null,
   "metadata": {},
   "outputs": [],
   "source": [
    "max(df2['y'])"
   ]
  },
  {
   "cell_type": "code",
   "execution_count": null,
   "metadata": {},
   "outputs": [],
   "source": [
    "print(df2[df2.y == df2.y.max()]) "
   ]
  },
  {
   "cell_type": "code",
   "execution_count": null,
   "metadata": {},
   "outputs": [],
   "source": [
    "df2 = df2.drop(46582)"
   ]
  },
  {
   "cell_type": "code",
   "execution_count": null,
   "metadata": {},
   "outputs": [],
   "source": [
    "print(df2[df2.y == df2.y.max()]) "
   ]
  },
  {
   "cell_type": "code",
   "execution_count": null,
   "metadata": {},
   "outputs": [],
   "source": [
    "from fbprophet import Prophet"
   ]
  },
  {
   "cell_type": "code",
   "execution_count": null,
   "metadata": {},
   "outputs": [],
   "source": [
    "m = Prophet(daily_seasonality = True) # the Prophet class (model)\n",
    "m.fit(df2) # fit the model using all data"
   ]
  },
  {
   "cell_type": "code",
   "execution_count": null,
   "metadata": {},
   "outputs": [],
   "source": [
    "future = m.make_future_dataframe(periods=365) #we need to specify the number of days in future\n",
    "prediction = m.predict(future)\n",
    "m.plot(prediction)\n",
    "plt.title(\"Prediction of the Google Stock Price using the Prophet\")\n",
    "plt.xlabel(\"Date\")\n",
    "plt.ylabel(\"Close Stock Price\")\n",
    "plt.ylim([0, 15000]) \n",
    "plt.show()"
   ]
  },
  {
   "cell_type": "code",
   "execution_count": null,
   "metadata": {},
   "outputs": [],
   "source": [
    "m.plot_components(prediction)\n",
    "plt.show()"
   ]
  }
 ],
 "metadata": {
  "kernelspec": {
   "display_name": "Python 3 (ipykernel)",
   "language": "python",
   "name": "python3"
  },
  "language_info": {
   "codemirror_mode": {
    "name": "ipython",
    "version": 3
   },
   "file_extension": ".py",
   "mimetype": "text/x-python",
   "name": "python",
   "nbconvert_exporter": "python",
   "pygments_lexer": "ipython3",
   "version": "3.11.5"
  }
 },
 "nbformat": 4,
 "nbformat_minor": 2
}
